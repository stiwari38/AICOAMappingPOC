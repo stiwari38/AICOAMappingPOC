{
 "cells": [
  {
   "cell_type": "code",
   "execution_count": 2,
   "metadata": {},
   "outputs": [],
   "source": [
    "import  pandas as pd"
   ]
  },
  {
   "cell_type": "code",
   "execution_count": 3,
   "metadata": {},
   "outputs": [],
   "source": [
    "train = pd.read_csv('Train_0511.csv')\n"
   ]
  },
  {
   "cell_type": "code",
   "execution_count": 4,
   "metadata": {},
   "outputs": [
    {
     "data": {
      "text/html": [
       "<div>\n",
       "<style scoped>\n",
       "    .dataframe tbody tr th:only-of-type {\n",
       "        vertical-align: middle;\n",
       "    }\n",
       "\n",
       "    .dataframe tbody tr th {\n",
       "        vertical-align: top;\n",
       "    }\n",
       "\n",
       "    .dataframe thead th {\n",
       "        text-align: right;\n",
       "    }\n",
       "</style>\n",
       "<table border=\"1\" class=\"dataframe\">\n",
       "  <thead>\n",
       "    <tr style=\"text-align: right;\">\n",
       "      <th></th>\n",
       "      <th>EntityName</th>\n",
       "      <th>EntityCode</th>\n",
       "      <th>GAAP</th>\n",
       "      <th>BusinessUnit</th>\n",
       "      <th>Year</th>\n",
       "      <th>Period</th>\n",
       "      <th>Category</th>\n",
       "      <th>UserGLcode</th>\n",
       "      <th>UserGLDescription</th>\n",
       "      <th>LayersinCoA</th>\n",
       "      <th>...</th>\n",
       "      <th>Column6</th>\n",
       "      <th>Column7</th>\n",
       "      <th>Column8</th>\n",
       "      <th>Column9</th>\n",
       "      <th>Column10</th>\n",
       "      <th>Column11</th>\n",
       "      <th>Column12</th>\n",
       "      <th>Column13</th>\n",
       "      <th>Column14</th>\n",
       "      <th>Column15</th>\n",
       "    </tr>\n",
       "  </thead>\n",
       "  <tbody>\n",
       "    <tr>\n",
       "      <th>0</th>\n",
       "      <td>National Insurance</td>\n",
       "      <td>NAI3908</td>\n",
       "      <td>IFRS</td>\n",
       "      <td></td>\n",
       "      <td>2020</td>\n",
       "      <td>202012-12</td>\n",
       "      <td>NewMappingMCOA</td>\n",
       "      <td></td>\n",
       "      <td></td>\n",
       "      <td>BS_GROUP</td>\n",
       "      <td>...</td>\n",
       "      <td></td>\n",
       "      <td></td>\n",
       "      <td></td>\n",
       "      <td></td>\n",
       "      <td></td>\n",
       "      <td></td>\n",
       "      <td></td>\n",
       "      <td></td>\n",
       "      <td></td>\n",
       "      <td></td>\n",
       "    </tr>\n",
       "    <tr>\n",
       "      <th>1</th>\n",
       "      <td>National Insurance</td>\n",
       "      <td>NAI3908</td>\n",
       "      <td>IFRS</td>\n",
       "      <td></td>\n",
       "      <td>2020</td>\n",
       "      <td>202012-12</td>\n",
       "      <td>NewMappingMCOA</td>\n",
       "      <td></td>\n",
       "      <td></td>\n",
       "      <td>BS_GROUP</td>\n",
       "      <td>...</td>\n",
       "      <td></td>\n",
       "      <td></td>\n",
       "      <td></td>\n",
       "      <td></td>\n",
       "      <td></td>\n",
       "      <td></td>\n",
       "      <td></td>\n",
       "      <td></td>\n",
       "      <td></td>\n",
       "      <td></td>\n",
       "    </tr>\n",
       "    <tr>\n",
       "      <th>2</th>\n",
       "      <td>National Insurance</td>\n",
       "      <td>NAI3908</td>\n",
       "      <td>IFRS</td>\n",
       "      <td></td>\n",
       "      <td>2020</td>\n",
       "      <td>202012-12</td>\n",
       "      <td>NewMappingMCOA</td>\n",
       "      <td></td>\n",
       "      <td></td>\n",
       "      <td>BS_GROUP</td>\n",
       "      <td>...</td>\n",
       "      <td></td>\n",
       "      <td></td>\n",
       "      <td></td>\n",
       "      <td></td>\n",
       "      <td></td>\n",
       "      <td></td>\n",
       "      <td></td>\n",
       "      <td></td>\n",
       "      <td></td>\n",
       "      <td></td>\n",
       "    </tr>\n",
       "    <tr>\n",
       "      <th>3</th>\n",
       "      <td>National Insurance</td>\n",
       "      <td>NAI3908</td>\n",
       "      <td>IFRS</td>\n",
       "      <td></td>\n",
       "      <td>2020</td>\n",
       "      <td>202012-12</td>\n",
       "      <td>NewMappingMCOA</td>\n",
       "      <td></td>\n",
       "      <td></td>\n",
       "      <td>BS_GROUP</td>\n",
       "      <td>...</td>\n",
       "      <td></td>\n",
       "      <td></td>\n",
       "      <td></td>\n",
       "      <td></td>\n",
       "      <td></td>\n",
       "      <td></td>\n",
       "      <td></td>\n",
       "      <td></td>\n",
       "      <td></td>\n",
       "      <td></td>\n",
       "    </tr>\n",
       "    <tr>\n",
       "      <th>4</th>\n",
       "      <td>National Insurance</td>\n",
       "      <td>NAI3908</td>\n",
       "      <td>IFRS</td>\n",
       "      <td></td>\n",
       "      <td>2020</td>\n",
       "      <td>202012-12</td>\n",
       "      <td>NewMappingMCOA</td>\n",
       "      <td></td>\n",
       "      <td></td>\n",
       "      <td>BS_GROUP</td>\n",
       "      <td>...</td>\n",
       "      <td></td>\n",
       "      <td></td>\n",
       "      <td></td>\n",
       "      <td></td>\n",
       "      <td></td>\n",
       "      <td></td>\n",
       "      <td></td>\n",
       "      <td></td>\n",
       "      <td></td>\n",
       "      <td></td>\n",
       "    </tr>\n",
       "  </tbody>\n",
       "</table>\n",
       "<p>5 rows × 26 columns</p>\n",
       "</div>"
      ],
      "text/plain": [
       "           EntityName EntityCode  GAAP BusinessUnit  Year     Period  \\\n",
       "0  National Insurance    NAI3908  IFRS               2020  202012-12   \n",
       "1  National Insurance    NAI3908  IFRS               2020  202012-12   \n",
       "2  National Insurance    NAI3908  IFRS               2020  202012-12   \n",
       "3  National Insurance    NAI3908  IFRS               2020  202012-12   \n",
       "4  National Insurance    NAI3908  IFRS               2020  202012-12   \n",
       "\n",
       "         Category UserGLcode UserGLDescription LayersinCoA  ... Column6  \\\n",
       "0  NewMappingMCOA                                 BS_GROUP  ...           \n",
       "1  NewMappingMCOA                                 BS_GROUP  ...           \n",
       "2  NewMappingMCOA                                 BS_GROUP  ...           \n",
       "3  NewMappingMCOA                                 BS_GROUP  ...           \n",
       "4  NewMappingMCOA                                 BS_GROUP  ...           \n",
       "\n",
       "  Column7 Column8 Column9 Column10 Column11 Column12 Column13 Column14  \\\n",
       "0                                                                        \n",
       "1                                                                        \n",
       "2                                                                        \n",
       "3                                                                        \n",
       "4                                                                        \n",
       "\n",
       "  Column15  \n",
       "0           \n",
       "1           \n",
       "2           \n",
       "3           \n",
       "4           \n",
       "\n",
       "[5 rows x 26 columns]"
      ]
     },
     "execution_count": 4,
     "metadata": {},
     "output_type": "execute_result"
    }
   ],
   "source": [
    "train = train.fillna('')\n",
    "train.columns = train.columns.str.replace(' ', '') \n",
    "train.head()"
   ]
  },
  {
   "cell_type": "code",
   "execution_count": 5,
   "metadata": {},
   "outputs": [],
   "source": [
    "# Read Columnx and fill rows based on value present at level for all rows\n",
    "\n",
    "filter_col = [col for col in train if col.startswith('Column')]\n",
    "\n",
    "for i,col in enumerate(filter_col):\n",
    "    val=\"\"   \n",
    "    for index, row in train.iterrows():\n",
    "        if row[col] != '':\n",
    "            val=row[col]         \n",
    "        row[col]=val\n",
    "        #print(index)"
   ]
  },
  {
   "cell_type": "code",
   "execution_count": 6,
   "metadata": {},
   "outputs": [],
   "source": [
    "# remove empty description rows\n",
    "cleantrain = train.loc[train['UserGLDescription'] != ''].copy()\n"
   ]
  },
  {
   "cell_type": "code",
   "execution_count": 7,
   "metadata": {},
   "outputs": [],
   "source": [
    "# combine all columns and put it in a new one with -> as delimiter\n",
    "cleantrain[\"combinedCol\"] = ''\n",
    "for i,col in enumerate(filter_col):    \n",
    "    cleantrain[\"combinedCol\"] = cleantrain[\"combinedCol\"] + cleantrain[col] + \"->\"\n",
    "    "
   ]
  },
  {
   "cell_type": "code",
   "execution_count": 8,
   "metadata": {},
   "outputs": [],
   "source": [
    "def CheckNoandEmpty(val):\n",
    "    if(val == '' or val.isdigit()):\n",
    "        return False\n",
    "    return True    \n",
    "    \n",
    "\n",
    "# remove trailing delimiters where string is empty a->b->->-> to a->b \n",
    "def StripEmpty(val):\n",
    "    return '->'.join(filter(CheckNoandEmpty,val.split('->')))\n",
    "\n",
    "\n",
    "# remove trailing delimiters where string is empty a->b->->-> to a->b \n",
    "cleantrain[\"combinedCol\"] = cleantrain[\"combinedCol\"].apply(StripEmpty)\n"
   ]
  },
  {
   "cell_type": "code",
   "execution_count": 9,
   "metadata": {},
   "outputs": [],
   "source": [
    "#See most frequent words\n",
    "\n",
    "\n",
    "import re\n",
    "import nltk\n",
    "from collections import defaultdict\n",
    "from collections import  Counter\n",
    "import seaborn as sns"
   ]
  },
  {
   "cell_type": "code",
   "execution_count": 10,
   "metadata": {},
   "outputs": [
    {
     "data": {
      "text/plain": [
       "5        BS_GROUP->BS_NetAssets->BS_Assets->BS_NCurrAss...\n",
       "38       BS_GROUP->BS_NetAssets->BS_Assets->BS_NCurrAss...\n",
       "39       BS_GROUP->BS_NetAssets->BS_Assets->BS_NCurrAss...\n",
       "40       BS_GROUP->BS_NetAssets->BS_Assets->BS_NCurrAss...\n",
       "41       BS_GROUP->BS_NetAssets->BS_Assets->BS_NCurrAss...\n",
       "                               ...                        \n",
       "20902    IS_PROFIT & LOSS GROUP->IS_EXPS->IS_EXPS->IS_E...\n",
       "20903    IS_PROFIT & LOSS GROUP->IS_EXPS->IS_EXPS->IS_E...\n",
       "20904    IS_PROFIT & LOSS GROUP->IS_EXPS->IS_EXPS->IS_E...\n",
       "20905    IS_PROFIT & LOSS GROUP->IS_EXPS->IS_EXPS->IS_E...\n",
       "20906    IS_PROFIT & LOSS GROUP->IS_EXPS->IS_EXPS->IS_E...\n",
       "Name: combinedCol, Length: 1869, dtype: object"
      ]
     },
     "execution_count": 10,
     "metadata": {},
     "output_type": "execute_result"
    }
   ],
   "source": [
    "\n",
    "from tensorflow.keras.preprocessing.text import Tokenizer\n",
    "from tensorflow.keras.preprocessing.sequence import pad_sequences\n",
    "from tensorflow.keras.models import Sequential\n",
    "from tensorflow.keras.layers import Dense, Flatten, Embedding, Dropout\n",
    "from tensorflow.keras.layers import Conv1D, MaxPool1D, GlobalMaxPooling1D, MaxPooling1D\n",
    "\n",
    "\n",
    "cleantrain[\"combinedCol\"] "
   ]
  },
  {
   "cell_type": "code",
   "execution_count": 11,
   "metadata": {},
   "outputs": [],
   "source": [
    "import numpy as np\n",
    "import pandas as pd\n",
    "import re\n",
    "from sklearn.model_selection import train_test_split"
   ]
  },
  {
   "cell_type": "markdown",
   "metadata": {},
   "source": [
    "## Text Cleaning"
   ]
  },
  {
   "cell_type": "code",
   "execution_count": 12,
   "metadata": {},
   "outputs": [],
   "source": [
    "def utils_preprocess_text(text):\n",
    "    text = re.sub(r'[^\\w\\s]', '', str(text).lower().strip())    \n",
    "    # remove proper nouns not much info here to learn\n",
    "    text = re.sub(r'axis','',text)    \n",
    "    text = re.sub(r'icici','',text)\n",
    "    text = re.sub(r'state','',text)\n",
    "    text = re.sub(r'limited','',text)\n",
    "    text = re.sub(r'ltd','',text)\n",
    "    return text\n"
   ]
  },
  {
   "cell_type": "code",
   "execution_count": 13,
   "metadata": {},
   "outputs": [],
   "source": [
    "cleantrain['UserGLDescription'] = cleantrain['UserGLDescription'].apply(lambda x: utils_preprocess_text(x))\n"
   ]
  },
  {
   "cell_type": "code",
   "execution_count": 14,
   "metadata": {},
   "outputs": [],
   "source": [
    "def create_corpus():\n",
    "    vocab=[]\n",
    "    \n",
    "    for x in cleantrain['UserGLDescription'].str.split():\n",
    "        for i in x:\n",
    "            vocab.append(i)\n",
    "    return vocab\n",
    "\n",
    "vocab = create_corpus()"
   ]
  },
  {
   "cell_type": "code",
   "execution_count": 15,
   "metadata": {},
   "outputs": [
    {
     "data": {
      "text/plain": [
       "<matplotlib.axes._subplots.AxesSubplot at 0x15f147f7dc8>"
      ]
     },
     "execution_count": 15,
     "metadata": {},
     "output_type": "execute_result"
    },
    {
     "data": {
      "image/png": "[encoded data removed]",
      "text/plain": [
       "<Figure size 432x288 with 1 Axes>"
      ]
     },
     "metadata": {
      "needs_background": "light"
     },
     "output_type": "display_data"
    }
   ],
   "source": [
    "lst_stopwords = nltk.corpus.stopwords.words(\"english\")\n",
    "\n",
    "counter=Counter(vocab)\n",
    "most=counter.most_common()\n",
    "x=[]\n",
    "y=[]\n",
    "for word,count in most[:40]:\n",
    "    if (word not in lst_stopwords) :\n",
    "        x.append(word)\n",
    "        y.append(count)\n",
    "        \n",
    "sns.barplot(x=y,y=x)"
   ]
  },
  {
   "cell_type": "code",
   "execution_count": 16,
   "metadata": {},
   "outputs": [],
   "source": [
    "\n",
    "corpus = cleantrain['UserGLDescription']  \n",
    "tokenizer_obj=Tokenizer()\n",
    "tokenizer_obj.fit_on_texts(corpus)\n",
    "sequences=tokenizer_obj.texts_to_sequences(corpus)"
   ]
  },
  {
   "cell_type": "code",
   "execution_count": 17,
   "metadata": {},
   "outputs": [
    {
     "name": "stdout",
     "output_type": "stream",
     "text": [
      "1715\n"
     ]
    }
   ],
   "source": [
    "print(len(tokenizer_obj.word_counts))\n",
    "\n",
    "max_length = 20\n",
    "X = pad_sequences(sequences, maxlen=max_length, padding = 'post')"
   ]
  },
  {
   "cell_type": "code",
   "execution_count": 18,
   "metadata": {},
   "outputs": [
    {
     "data": {
      "text/plain": [
       "(1869, 20)"
      ]
     },
     "execution_count": 18,
     "metadata": {},
     "output_type": "execute_result"
    }
   ],
   "source": [
    "vocab_size = len(tokenizer_obj.word_counts) + 1\n",
    "X.shape\n"
   ]
  },
  {
   "cell_type": "code",
   "execution_count": 19,
   "metadata": {},
   "outputs": [
    {
     "name": "stderr",
     "output_type": "stream",
     "text": [
      "Using TensorFlow backend.\n"
     ]
    }
   ],
   "source": [
    "from keras.utils import np_utils\n",
    "from tensorflow.keras.optimizers import Adam"
   ]
  },
  {
   "cell_type": "code",
   "execution_count": 20,
   "metadata": {},
   "outputs": [],
   "source": [
    "y_target = cleantrain['combinedCol']"
   ]
  },
  {
   "cell_type": "code",
   "execution_count": 21,
   "metadata": {},
   "outputs": [
    {
     "data": {
      "text/plain": [
       "5    BS_GROUP->BS_NetAssets->BS_Assets->BS_NCurrAss...\n",
       "Name: combinedCol, dtype: object"
      ]
     },
     "execution_count": 21,
     "metadata": {},
     "output_type": "execute_result"
    }
   ],
   "source": [
    "y_target[:1]"
   ]
  },
  {
   "cell_type": "code",
   "execution_count": 22,
   "metadata": {},
   "outputs": [
    {
     "data": {
      "text/plain": [
       "74"
      ]
     },
     "execution_count": 22,
     "metadata": {},
     "output_type": "execute_result"
    }
   ],
   "source": [
    "myset = set(y_target)\n",
    "output_size = len(myset)\n",
    "output_size"
   ]
  },
  {
   "cell_type": "code",
   "execution_count": 23,
   "metadata": {},
   "outputs": [],
   "source": [
    "integer_mapping_set = {x: i for i,x in enumerate(myset)}\n",
    "vec = [integer_mapping_set[word] for word in y_target]"
   ]
  },
  {
   "cell_type": "code",
   "execution_count": 24,
   "metadata": {},
   "outputs": [],
   "source": [
    "y = np_utils.to_categorical(y = vec)"
   ]
  },
  {
   "cell_type": "code",
   "execution_count": 25,
   "metadata": {},
   "outputs": [
    {
     "name": "stdout",
     "output_type": "stream",
     "text": [
      "[[0. 0. 0. ... 0. 0. 0.]\n",
      " [0. 0. 0. ... 0. 0. 0.]\n",
      " [0. 0. 0. ... 0. 0. 0.]\n",
      " ...\n",
      " [0. 0. 0. ... 0. 0. 0.]\n",
      " [0. 0. 0. ... 0. 0. 0.]\n",
      " [0. 0. 0. ... 0. 0. 0.]]\n"
     ]
    }
   ],
   "source": [
    "print(y)"
   ]
  },
  {
   "cell_type": "code",
   "execution_count": 26,
   "metadata": {},
   "outputs": [
    {
     "data": {
      "text/plain": [
       "(1869, 74)"
      ]
     },
     "execution_count": 26,
     "metadata": {},
     "output_type": "execute_result"
    }
   ],
   "source": [
    "y.shape"
   ]
  },
  {
   "cell_type": "code",
   "execution_count": 27,
   "metadata": {},
   "outputs": [],
   "source": [
    "#print(X_train.shape)\n",
    "#print(y_train.shape)\n",
    "#print(X_test.shape)\n",
    "#print(y_test.shape)"
   ]
  },
  {
   "cell_type": "code",
   "execution_count": 28,
   "metadata": {},
   "outputs": [],
   "source": [
    "vec_size = 300\n",
    "model = Sequential()\n",
    "model.add(Embedding(vocab_size, vec_size, input_length=max_length))\n",
    "\n",
    "model.add(Conv1D(32, 2, activation='relu'))\n",
    "model.add(MaxPooling1D(2))\n",
    "model.add(Dropout(0.2))\n",
    "\n",
    "model.add(Dense(32, activation='relu'))\n",
    "model.add(GlobalMaxPooling1D())\n",
    "model.add(Dense(output_size, activation='softmax'))"
   ]
  },
  {
   "cell_type": "code",
   "execution_count": 29,
   "metadata": {},
   "outputs": [
    {
     "name": "stdout",
     "output_type": "stream",
     "text": [
      "Train on 1869 samples\n",
      "Epoch 1/100\n",
      "1869/1869 [==============================] - 3s 1ms/sample - loss: 3.8154 - accuracy: 0.1990\n",
      "Epoch 2/100\n",
      "1869/1869 [==============================] - 1s 671us/sample - loss: 2.9966 - accuracy: 0.2825 - los\n",
      "Epoch 3/100\n",
      "1869/1869 [==============================] - 1s 749us/sample - loss: 2.6953 - accuracy: 0.3526 - loss: 2.7496 \n",
      "Epoch 4/100\n",
      "1869/1869 [==============================] - 1s 657us/sample - loss: 2.3134 - accuracy: 0.4238\n",
      "Epoch 5/100\n",
      "1869/1869 [==============================] - 1s 649us/sample - loss: 1.9005 - accuracy: 0.5383\n",
      "Epoch 6/100\n",
      "1869/1869 [==============================] - 1s 726us/sample - loss: 1.5564 - accuracy: 0.6362\n",
      "Epoch 7/100\n",
      "1869/1869 [==============================] - 1s 661us/sample - loss: 1.3154 - accuracy: 0.6816\n",
      "Epoch 8/100\n",
      "1869/1869 [==============================] - 1s 693us/sample - loss: 1.0852 - accuracy: 0.7223 - loss: 1.0817 - accuracy: 0.\n",
      "Epoch 9/100\n",
      "1869/1869 [==============================] - 1s 697us/sample - loss: 0.9562 - accuracy: 0.7533\n",
      "Epoch 10/100\n",
      "1869/1869 [==============================] - 2s 893us/sample - loss: 0.8224 - accuracy: 0.7919\n",
      "Epoch 11/100\n",
      "1869/1869 [==============================] - 2s 844us/sample - loss: 0.7256 - accuracy: 0.8165\n",
      "Epoch 12/100\n",
      "1869/1869 [==============================] - 2s 859us/sample - loss: 0.6458 - accuracy: 0.8336\n",
      "Epoch 13/100\n",
      "1869/1869 [==============================] - 2s 909us/sample - loss: 0.5770 - accuracy: 0.8523 - loss: 0.5824 - accu\n",
      "Epoch 14/100\n",
      "1869/1869 [==============================] - 1s 792us/sample - loss: 0.5134 - accuracy: 0.8705\n",
      "Epoch 15/100\n",
      "1869/1869 [==============================] - 1s 754us/sample - loss: 0.4769 - accuracy: 0.8759\n",
      "Epoch 16/100\n",
      "1869/1869 [==============================] - 1s 765us/sample - loss: 0.4201 - accuracy: 0.8892\n",
      "Epoch 17/100\n",
      "1869/1869 [==============================] - 1s 776us/sample - loss: 0.3894 - accuracy: 0.8941 - loss: 0.3726 - ac\n",
      "Epoch 18/100\n",
      "1869/1869 [==============================] - 1s 765us/sample - loss: 0.3592 - accuracy: 0.9090\n",
      "Epoch 19/100\n",
      "1869/1869 [==============================] - 2s 845us/sample - loss: 0.3153 - accuracy: 0.9133\n",
      "Epoch 20/100\n",
      "1869/1869 [==============================] - 1s 784us/sample - loss: 0.3087 - accuracy: 0.9149\n",
      "Epoch 21/100\n",
      "1869/1869 [==============================] - 1s 687us/sample - loss: 0.2785 - accuracy: 0.9192\n",
      "Epoch 22/100\n",
      "1869/1869 [==============================] - 1s 738us/sample - loss: 0.2654 - accuracy: 0.9272\n",
      "Epoch 23/100\n",
      "1869/1869 [==============================] - 1s 783us/sample - loss: 0.2438 - accuracy: 0.9272\n",
      "Epoch 24/100\n",
      "1869/1869 [==============================] - 1s 659us/sample - loss: 0.2316 - accuracy: 0.9337 - loss: 0.2137 - ac\n",
      "Epoch 25/100\n",
      "1869/1869 [==============================] - 1s 669us/sample - loss: 0.2179 - accuracy: 0.9337\n",
      "Epoch 26/100\n",
      "1869/1869 [==============================] - 1s 689us/sample - loss: 0.2228 - accuracy: 0.9374\n",
      "Epoch 27/100\n",
      "1869/1869 [==============================] - 1s 793us/sample - loss: 0.1949 - accuracy: 0.9438\n",
      "Epoch 28/100\n",
      "1869/1869 [==============================] - 1s 757us/sample - loss: 0.1931 - accuracy: 0.9444 - loss: 0.181\n",
      "Epoch 29/100\n",
      "1869/1869 [==============================] - 2s 824us/sample - loss: 0.1699 - accuracy: 0.9518\n",
      "Epoch 30/100\n",
      "1869/1869 [==============================] - 2s 818us/sample - loss: 0.1713 - accuracy: 0.9433\n",
      "Epoch 31/100\n",
      "1869/1869 [==============================] - 1s 752us/sample - loss: 0.1502 - accuracy: 0.9545\n",
      "Epoch 32/100\n",
      "1869/1869 [==============================] - 1s 678us/sample - loss: 0.1508 - accuracy: 0.9476\n",
      "Epoch 33/100\n",
      "1869/1869 [==============================] - 1s 745us/sample - loss: 0.1577 - accuracy: 0.9518\n",
      "Epoch 34/100\n",
      "1869/1869 [==============================] - 2s 904us/sample - loss: 0.1479 - accuracy: 0.9545 - loss: 0.1557 - ac\n",
      "Epoch 35/100\n",
      "1869/1869 [==============================] - 1s 727us/sample - loss: 0.1542 - accuracy: 0.9561\n",
      "Epoch 36/100\n",
      "1869/1869 [==============================] - 1s 735us/sample - loss: 0.1300 - accuracy: 0.9567\n",
      "Epoch 37/100\n",
      "1869/1869 [==============================] - 2s 828us/sample - loss: 0.1297 - accuracy: 0.9577\n",
      "Epoch 38/100\n",
      "1869/1869 [==============================] - 1s 784us/sample - loss: 0.1164 - accuracy: 0.9593 - loss: 0\n",
      "Epoch 39/100\n",
      "1869/1869 [==============================] - 1s 725us/sample - loss: 0.1162 - accuracy: 0.9620\n",
      "Epoch 40/100\n",
      "1869/1869 [==============================] - 1s 744us/sample - loss: 0.1138 - accuracy: 0.9609\n",
      "Epoch 41/100\n",
      "1869/1869 [==============================] - 1s 698us/sample - loss: 0.1254 - accuracy: 0.9625\n",
      "Epoch 42/100\n",
      "1869/1869 [==============================] - 1s 699us/sample - loss: 0.1222 - accuracy: 0.9567\n",
      "Epoch 43/100\n",
      "1869/1869 [==============================] - 1s 701us/sample - loss: 0.1142 - accuracy: 0.9615\n",
      "Epoch 44/100\n",
      "1869/1869 [==============================] - 1s 667us/sample - loss: 0.1087 - accuracy: 0.9631\n",
      "Epoch 45/100\n",
      "1869/1869 [==============================] - 1s 773us/sample - loss: 0.1081 - accuracy: 0.9668\n",
      "Epoch 46/100\n",
      "1869/1869 [==============================] - 1s 701us/sample - loss: 0.1045 - accuracy: 0.9652\n",
      "Epoch 47/100\n",
      "1869/1869 [==============================] - 1s 697us/sample - loss: 0.1057 - accuracy: 0.9604\n",
      "Epoch 48/100\n",
      "1869/1869 [==============================] - 1s 684us/sample - loss: 0.1175 - accuracy: 0.9561\n",
      "Epoch 49/100\n",
      "1869/1869 [==============================] - 1s 758us/sample - loss: 0.1140 - accuracy: 0.9604\n",
      "Epoch 50/100\n",
      "1869/1869 [==============================] - 1s 775us/sample - loss: 0.1014 - accuracy: 0.9647\n",
      "Epoch 51/100\n",
      "1869/1869 [==============================] - 1s 770us/sample - loss: 0.1013 - accuracy: 0.9647\n",
      "Epoch 52/100\n",
      "1869/1869 [==============================] - 1s 622us/sample - loss: 0.1060 - accuracy: 0.9625\n",
      "Epoch 53/100\n",
      "1869/1869 [==============================] - 1s 703us/sample - loss: 0.0997 - accuracy: 0.9642\n",
      "Epoch 54/100\n",
      "1869/1869 [==============================] - 1s 742us/sample - loss: 0.0961 - accuracy: 0.9658\n",
      "Epoch 55/100\n",
      "1869/1869 [==============================] - 1s 793us/sample - loss: 0.0967 - accuracy: 0.9674\n",
      "Epoch 56/100\n",
      "1869/1869 [==============================] - 1s 801us/sample - loss: 0.0986 - accuracy: 0.9642\n",
      "Epoch 57/100\n",
      "1869/1869 [==============================] - 2s 821us/sample - loss: 0.0967 - accuracy: 0.9663\n",
      "Epoch 58/100\n",
      "1869/1869 [==============================] - 2s 822us/sample - loss: 0.0798 - accuracy: 0.9716\n",
      "Epoch 59/100\n",
      "1869/1869 [==============================] - 1s 800us/sample - loss: 0.0839 - accuracy: 0.9690\n",
      "Epoch 60/100\n",
      "1869/1869 [==============================] - 2s 872us/sample - loss: 0.0813 - accuracy: 0.9663 - l - ETA: 0s - loss: 0.0802 - accuracy: \n",
      "Epoch 61/100\n",
      "1869/1869 [==============================] - 2s 812us/sample - loss: 0.0699 - accuracy: 0.9770\n",
      "Epoch 62/100\n",
      "1869/1869 [==============================] - 2s 1ms/sample - loss: 0.0735 - accuracy: 0.9738\n",
      "Epoch 63/100\n",
      "1869/1869 [==============================] - 2s 1ms/sample - loss: 0.0715 - accuracy: 0.9711\n",
      "Epoch 64/100\n",
      "1869/1869 [==============================] - ETA: 0s - loss: 0.0718 - accuracy: 0.97 - 2s 909us/sample - loss: 0.0740 - accuracy: 0.9738\n",
      "Epoch 65/100\n",
      "1869/1869 [==============================] - 2s 927us/sample - loss: 0.0815 - accuracy: 0.9674\n",
      "Epoch 66/100\n",
      "1869/1869 [==============================] - 2s 811us/sample - loss: 0.0705 - accuracy: 0.9716 - loss: 0.0670 - accura\n",
      "Epoch 67/100\n",
      "1869/1869 [==============================] - 1s 652us/sample - loss: 0.0779 - accuracy: 0.9722\n",
      "Epoch 68/100\n",
      "1869/1869 [==============================] - 1s 631us/sample - loss: 0.0783 - accuracy: 0.9711\n",
      "Epoch 69/100\n",
      "1869/1869 [==============================] - 1s 637us/sample - loss: 0.0581 - accuracy: 0.9781\n",
      "Epoch 70/100\n",
      "1869/1869 [==============================] - 1s 614us/sample - loss: 0.0701 - accuracy: 0.9749\n",
      "Epoch 71/100\n",
      "1869/1869 [==============================] - 1s 652us/sample - loss: 0.0754 - accuracy: 0.9706\n",
      "Epoch 72/100\n",
      "1869/1869 [==============================] - 1s 636us/sample - loss: 0.0662 - accuracy: 0.9759\n",
      "Epoch 73/100\n",
      "1869/1869 [==============================] - 1s 650us/sample - loss: 0.0768 - accuracy: 0.9711\n",
      "Epoch 74/100\n"
     ]
    },
    {
     "name": "stdout",
     "output_type": "stream",
     "text": [
      "1869/1869 [==============================] - 1s 694us/sample - loss: 0.0704 - accuracy: 0.9722\n",
      "Epoch 75/100\n",
      "1869/1869 [==============================] - 1s 748us/sample - loss: 0.0758 - accuracy: 0.9706\n",
      "Epoch 76/100\n",
      "1869/1869 [==============================] - 1s 736us/sample - loss: 0.0746 - accuracy: 0.9716\n",
      "Epoch 77/100\n",
      "1869/1869 [==============================] - 1s 669us/sample - loss: 0.0721 - accuracy: 0.9727\n",
      "Epoch 78/100\n",
      "1869/1869 [==============================] - 1s 645us/sample - loss: 0.0758 - accuracy: 0.9679\n",
      "Epoch 79/100\n",
      "1869/1869 [==============================] - 1s 608us/sample - loss: 0.0766 - accuracy: 0.9716\n",
      "Epoch 80/100\n",
      "1869/1869 [==============================] - 1s 639us/sample - loss: 0.0758 - accuracy: 0.9727 - loss: 0.0761 - accuracy: 0.97\n",
      "Epoch 81/100\n",
      "1869/1869 [==============================] - 1s 626us/sample - loss: 0.0716 - accuracy: 0.9738\n",
      "Epoch 82/100\n",
      "1869/1869 [==============================] - 1s 645us/sample - loss: 0.0773 - accuracy: 0.9684\n",
      "Epoch 83/100\n",
      "1869/1869 [==============================] - 1s 627us/sample - loss: 0.0698 - accuracy: 0.9711 - loss: 0.0\n",
      "Epoch 84/100\n",
      "1869/1869 [==============================] - 1s 703us/sample - loss: 0.0615 - accuracy: 0.9765\n",
      "Epoch 85/100\n",
      "1869/1869 [==============================] - 2s 822us/sample - loss: 0.0605 - accuracy: 0.9786\n",
      "Epoch 86/100\n",
      "1869/1869 [==============================] - 2s 969us/sample - loss: 0.0650 - accuracy: 0.9770 - loss: 0.0677 - accuracy\n",
      "Epoch 87/100\n",
      "1869/1869 [==============================] - 2s 900us/sample - loss: 0.0726 - accuracy: 0.9716\n",
      "Epoch 88/100\n",
      "1869/1869 [==============================] - 2s 870us/sample - loss: 0.0634 - accuracy: 0.9722\n",
      "Epoch 89/100\n",
      "1869/1869 [==============================] - 2s 812us/sample - loss: 0.0672 - accuracy: 0.9732 - loss: 0.0925 - accuracy: 0. -\n",
      "Epoch 90/100\n",
      "1869/1869 [==============================] - 1s 769us/sample - loss: 0.0599 - accuracy: 0.9770\n",
      "Epoch 91/100\n",
      "1869/1869 [==============================] - 2s 840us/sample - loss: 0.0624 - accuracy: 0.9738\n",
      "Epoch 92/100\n",
      "1869/1869 [==============================] - 2s 810us/sample - loss: 0.0612 - accuracy: 0.9759\n",
      "Epoch 93/100\n",
      "1869/1869 [==============================] - 2s 826us/sample - loss: 0.0532 - accuracy: 0.9786\n",
      "Epoch 94/100\n",
      "1869/1869 [==============================] - 1s 754us/sample - loss: 0.0571 - accuracy: 0.9786\n",
      "Epoch 95/100\n",
      "1869/1869 [==============================] - 1s 677us/sample - loss: 0.0597 - accuracy: 0.9738\n",
      "Epoch 96/100\n",
      "1869/1869 [==============================] - 1s 713us/sample - loss: 0.0726 - accuracy: 0.9690\n",
      "Epoch 97/100\n",
      "1869/1869 [==============================] - 1s 784us/sample - loss: 0.0707 - accuracy: 0.9700 - loss: 0.0597 - accu\n",
      "Epoch 98/100\n",
      "1869/1869 [==============================] - 1s 754us/sample - loss: 0.0733 - accuracy: 0.9743 - los\n",
      "Epoch 99/100\n",
      "1869/1869 [==============================] - 1s 723us/sample - loss: 0.0643 - accuracy: 0.9754\n",
      "Epoch 100/100\n",
      "1869/1869 [==============================] - 1s 611us/sample - loss: 0.0554 - accuracy: 0.9770\n"
     ]
    },
    {
     "data": {
      "text/plain": [
       "<tensorflow.python.keras.callbacks.History at 0x15f1514c488>"
      ]
     },
     "execution_count": 29,
     "metadata": {},
     "output_type": "execute_result"
    }
   ],
   "source": [
    "model.compile(optimizer=Adam(learning_rate=0.001), loss = 'categorical_crossentropy', metrics = ['accuracy'])\n",
    "model.fit(X, y, epochs = 100,  shuffle = True)"
   ]
  },
  {
   "cell_type": "code",
   "execution_count": 36,
   "metadata": {},
   "outputs": [],
   "source": [
    "def get_encoded(x): \n",
    "  x= utils_preprocess_text(x)\n",
    "  x = tokenizer_obj.texts_to_sequences([x])\n",
    "  x = pad_sequences(x, maxlen=max_length, padding = 'post')\n",
    "  return x"
   ]
  },
  {
   "cell_type": "code",
   "execution_count": 53,
   "metadata": {},
   "outputs": [
    {
     "name": "stdout",
     "output_type": "stream",
     "text": [
      "User GL description: Acc. Depreciation-Computer Software\n",
      "Expected path:  BS_GROUP->BS_NetAssets->BS_Assets->BS_NCurrAssets->BS_Intang->BS_IntangOth->BS_IntangACS\n",
      "predicted path: BS_GROUP->BS_NetAssets->BS_Assets->BS_NCurrAssets->BS_Intang->BS_IntangOth->BS_IntangACS\n"
     ]
    }
   ],
   "source": [
    "x='Acc. Depreciation-Computer Software'\n",
    "print('User GL description: '+ x)\n",
    "expectedFolder = cleantrain.loc[cleantrain['UserGLDescription'] == utils_preprocess_text('Acc. Depreciation-Computer Software')]\n",
    "pd.options.display.max_colwidth = 100 # stop string truncation\n",
    "print('Expected path: ' + expectedFolder['combinedCol'].to_string(index=False))\n",
    "pred_vector = model.predict(get_encoded(x))\n",
    "confidence = np.max(pred_vector)\n",
    "if(confidence >= .5):    \n",
    "    result_vector=np.argmax(pred_vector, axis=-1)\n",
    "    for key, val in integer_mapping_set.items():\n",
    "        if val == result_vector:\n",
    "             print('predicted path: '+ key)\n",
    "else:\n",
    "    print(\"Can't say\")\n"
   ]
  },
  {
   "cell_type": "code",
   "execution_count": 32,
   "metadata": {},
   "outputs": [],
   "source": [
    "Yhat = np.argmax(model.predict(X), axis=-1)"
   ]
  },
  {
   "cell_type": "code",
   "execution_count": 33,
   "metadata": {},
   "outputs": [
    {
     "data": {
      "text/plain": [
       "array([33,  4,  4, ..., 44, 44, 44], dtype=int64)"
      ]
     },
     "execution_count": 33,
     "metadata": {},
     "output_type": "execute_result"
    }
   ],
   "source": [
    "Yhat"
   ]
  },
  {
   "cell_type": "code",
   "execution_count": 34,
   "metadata": {},
   "outputs": [],
   "source": [
    "\n",
    "from sklearn.metrics import classification_report,confusion_matrix"
   ]
  },
  {
   "cell_type": "code",
   "execution_count": 35,
   "metadata": {},
   "outputs": [
    {
     "name": "stdout",
     "output_type": "stream",
     "text": [
      "              precision    recall  f1-score   support\n",
      "\n",
      "  ->E5259000       1.00      1.00      1.00         1\n",
      "  S_WagesSal       0.90      0.93      0.92        60\n",
      "  ->E2879100       0.90      1.00      0.95         9\n",
      "  therRev3rd       1.00      1.00      1.00         2\n",
      "  _IntangACS       1.00      1.00      1.00         8\n",
      "  _InvestGrp       1.00      1.00      1.00        21\n",
      "  _LT_AR_3rd       1.00      1.00      1.00         4\n",
      "  _ST_AR_3rd       1.00      1.00      1.00        26\n",
      "  ->E2879100       1.00      1.00      1.00         1\n",
      "  ->E2879100       1.00      1.00      1.00        50\n",
      "  S_Sales3rd       1.00      1.00      1.00        36\n",
      "  CashDefBen       1.00      1.00      1.00         2\n",
      "  _OthInvest       1.00      1.00      1.00         1\n",
      "  therRevGrp       1.00      0.96      0.98        23\n",
      "  E_Building       1.00      1.00      1.00        10\n",
      "  ->E2879100       1.00      1.00      1.00        18\n",
      "  CashDefBen       1.00      1.00      1.00         2\n",
      "  ->BS_LT_AR       0.97      1.00      0.98        32\n",
      "  _OthInvest       1.00      0.97      0.99        39\n",
      "  ->E2879100       1.00      1.00      1.00         2\n",
      "  BS_PPE_PME       0.93      1.00      0.96        55\n",
      "  ->E2879100       1.00      1.00      1.00        55\n",
      "  T_EquitySh       1.00      0.97      0.99        35\n",
      "  60010_Calc       1.00      1.00      1.00        16\n",
      "  OthExtCash       0.99      0.99      0.99       251\n",
      "  ->E2879100       1.00      1.00      1.00         1\n",
      "  therAssets       1.00      0.99      0.99        78\n",
      "  ->E2879100       1.00      1.00      1.00         1\n",
      "  CashDefBen       1.00      1.00      1.00         2\n",
      "  60010_Calc       1.00      1.00      1.00         4\n",
      "  ->E2879100       1.00      1.00      1.00       421\n",
      "  ->E5259000       1.00      0.75      0.86         4\n",
      "  ->E2879100       1.00      1.00      1.00         6\n",
      "  S_Goodwill       1.00      1.00      1.00         1\n",
      "  ->E2879100       1.00      1.00      1.00         5\n",
      "  ->E2879100       1.00      1.00      1.00        16\n",
      "  S_PPE_Land       1.00      0.67      0.80         3\n",
      "  CashDefBen       1.00      1.00      1.00         5\n",
      "  CashDefBen       1.00      0.60      0.75         5\n",
      "  _ST_Invent       1.00      1.00      1.00        41\n",
      "  ->E2879100       1.00      1.00      1.00         3\n",
      "  CashDefBen       1.00      1.00      1.00         6\n",
      "  InvestProp       1.00      1.00      1.00         1\n",
      "  ->E2879100       1.00      1.00      1.00        41\n",
      "  CashDefBen       0.94      0.93      0.93        68\n",
      "  CashDefBen       1.00      1.00      1.00        53\n",
      "  ->E5259000       1.00      1.00      1.00        29\n",
      "  _OthPrepay       1.00      1.00      1.00         2\n",
      "  ->E2879100       0.92      1.00      0.96        11\n",
      "  ->E5259000       1.00      1.00      1.00         9\n",
      "  ->E2879100       1.00      1.00      1.00         8\n",
      "  T_TaxRecov       1.00      1.00      1.00        17\n",
      "  ->E2879100       1.00      1.00      1.00         3\n",
      "  ->E2879100       0.93      0.95      0.94        41\n",
      "  ->E2879100       1.00      1.00      1.00         2\n",
      "  ->E2879100       1.00      1.00      1.00         3\n",
      "  ->E2879100       1.00      1.00      1.00        27\n",
      "  ->E5259000       0.93      1.00      0.96        13\n",
      "  CashDefBen       0.50      1.00      0.67         1\n",
      "  ts->BS_DTA       1.00      1.00      1.00         2\n",
      "  oansRecGrp       1.00      1.00      1.00         7\n",
      "  60010_Calc       1.00      1.00      1.00        49\n",
      "  ->E2879100       1.00      1.00      1.00         9\n",
      "  CashDefBen       1.00      1.00      1.00         6\n",
      "  ->E2879100       0.95      0.94      0.95        67\n",
      "  ->E2879100       1.00      1.00      1.00         7\n",
      "  ->E2879100       1.00      1.00      1.00         7\n",
      "  BS_PPE_CIP       1.00      1.00      1.00         7\n",
      "  CashDefBen       1.00      0.67      0.80         6\n",
      "  ->E2879100       1.00      1.00      1.00         5\n",
      "  IntangOthe       1.00      1.00      1.00         2\n",
      "  S_IntangEE       1.00      1.00      1.00         1\n",
      "  ->E2879100       1.00      1.00      1.00         2\n",
      "  CashDefBen       1.00      1.00      1.00         2\n",
      "\n",
      "    accuracy                           0.99      1869\n",
      "   macro avg       0.98      0.98      0.98      1869\n",
      "weighted avg       0.99      0.99      0.99      1869\n",
      "\n"
     ]
    }
   ],
   "source": [
    "#print(confusion_matrix(vec,Yhat))\n",
    "classNames = list(integer_mapping_set.keys())\n",
    "classNames[:] = (elem[-10:] for elem in classNames)\n",
    "classNames\n",
    "print(classification_report(vec,Yhat,target_names = classNames))"
   ]
  }
 ],
 "metadata": {
  "kernelspec": {
   "display_name": "Python 3",
   "language": "python",
   "name": "python3"
  },
  "language_info": {
   "codemirror_mode": {
    "name": "ipython",
    "version": 3
   },
   "file_extension": ".py",
   "mimetype": "text/x-python",
   "name": "python",
   "nbconvert_exporter": "python",
   "pygments_lexer": "ipython3",
   "version": "3.7.6"
  }
 },
 "nbformat": 4,
 "nbformat_minor": 4
}
